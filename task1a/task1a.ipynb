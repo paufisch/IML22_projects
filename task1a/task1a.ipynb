{
 "cells": [
  {
   "cell_type": "markdown",
   "id": "ac949dce",
   "metadata": {},
   "source": [
    "# Task 1a"
   ]
  },
  {
   "cell_type": "markdown",
   "id": "4aa2bc70",
   "metadata": {},
   "source": [
    "## cross validation for ridge regression"
   ]
  },
  {
   "cell_type": "code",
   "execution_count": 1,
   "id": "7a32411e",
   "metadata": {},
   "outputs": [],
   "source": [
    "import numpy as np\n",
    "import pandas as pd\n",
    "from sklearn.metrics import mean_squared_error\n",
    "import numdifftools as nd\n",
    "from tqdm import tqdm\n",
    "from sklearn.linear_model import LinearRegression, Ridge"
   ]
  },
  {
   "cell_type": "code",
   "execution_count": 2,
   "id": "57e4174a",
   "metadata": {},
   "outputs": [],
   "source": [
    "#read data \n",
    "df_train = pd.read_csv('train.csv')\n",
    "sample = np.loadtxt('sample.csv')"
   ]
  },
  {
   "cell_type": "code",
   "execution_count": 3,
   "id": "f402eba9",
   "metadata": {},
   "outputs": [],
   "source": [
    "#initialize values\n",
    "lamda = np.array([0.1,1,10,100,200])\n",
    "X = df_train.to_numpy()[:,1:]\n",
    "y = df_train.to_numpy()[:,0]\n",
    "K = 10"
   ]
  },
  {
   "cell_type": "code",
   "execution_count": 20,
   "id": "c3b68686",
   "metadata": {},
   "outputs": [],
   "source": [
    "#K fold cross validation loop\n",
    "\"\"\"\n",
    "args:\n",
    "    X: complete data sets rows = features colums = samples\n",
    "    y: labeles for each row of X\n",
    "    K: number of Bins for K-fold cross validation\n",
    "    alpha = coefficient for the ridge regression (also known als lambda)\n",
    "    \n",
    "return:\n",
    "    errors: array of mena squared errors for of the linear fit compared to the labels\n",
    "            for each fold K\n",
    "\"\"\"\n",
    "\n",
    "def cross_validation(X,y,K,alpha):\n",
    "\n",
    "    errors = np.zeros(K)#alocate memmory for the erros we want to store\n",
    "    for k in range(0,K):\n",
    "        #calc interval [a,b] which we want to use as validation set\n",
    "        length = int(X.shape[0]/K)\n",
    "        a = k*length\n",
    "        b = (k+1)*length-1\n",
    "        #initialize validatio set D_k\n",
    "        D_k = X[a:b,:]\n",
    "        y_k = y[a:b]\n",
    "        #initialize the training set which is X without D_k\n",
    "        X_train = np.delete(X,slice(a,b),0)\n",
    "        y_train = np.delete(y,slice(a,b))\n",
    "        \n",
    "        #train the liner model using ridge regression on the fold K\n",
    "        reg_ridge = Ridge(alpha = alpha,fit_intercept=False, tol=1e-9,max_iter=1000000).fit(X_train, y_train)\n",
    "        w_k = reg_ridge.coef_\n",
    "        #print(reg_ridge.score(X_train,y_train))\n",
    "        #use the validation set to compute and store the error of our fit\n",
    "        y_predict = D_k @ w_k\n",
    "        errors[k] = mean_squared_error(y_k, y_predict)**0.5\n",
    "        #print(np.sqrt(np.mean((y_k- y_predict)**2)))\n",
    "        \n",
    "\n",
    "    return errors"
   ]
  },
  {
   "cell_type": "code",
   "execution_count": 21,
   "id": "2e8d70af",
   "metadata": {},
   "outputs": [
    {
     "name": "stdout",
     "output_type": "stream",
     "text": [
      "K-fold ridge cross validation for lambda = 0.1\n",
      "K-fold ridge cross validation for lambda = 1.0\n",
      "K-fold ridge cross validation for lambda = 10.0\n",
      "K-fold ridge cross validation for lambda = 100.0\n",
      "K-fold ridge cross validation for lambda = 200.0\n",
      "[5.43676826 5.40757647 5.36103627 5.76033067 6.05113517]\n"
     ]
    }
   ],
   "source": [
    "#loops over the different lambda and computes the average error for each \n",
    "results = np.zeros_like(lamda)\n",
    "for i in range(lamda.size):\n",
    "    print(f'K-fold ridge cross validation for lambda = {lamda[i]}')\n",
    "    errors = cross_validation(X,y,K,lamda[i])#array of errors for each bin K for one lambda\n",
    "    results[i] = np.mean(errors)\n",
    "    \n",
    "\n",
    "#np.savetxt('ridge_try02.csv', results, delimiter=\",\")\n",
    "print(results)"
   ]
  },
  {
   "cell_type": "code",
   "execution_count": null,
   "metadata": {},
   "outputs": [],
   "source": []
  }
 ],
 "metadata": {
  "kernelspec": {
   "display_name": "Python3",
   "language": "python",
   "name": "python3"
  },
  "language_info": {
   "codemirror_mode": {
    "name": "ipython",
    "version": 3
   },
   "file_extension": ".py",
   "mimetype": "text/x-python",
   "name": "python",
   "nbconvert_exporter": "python",
   "pygments_lexer": "ipython3",
   "version": "3.9.10"
  }
 },
 "nbformat": 4,
 "nbformat_minor": 5
}
