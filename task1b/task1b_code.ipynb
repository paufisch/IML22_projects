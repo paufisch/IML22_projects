{
 "cells": [
  {
   "cell_type": "code",
   "execution_count": 1,
   "id": "97772b6a",
   "metadata": {},
   "outputs": [],
   "source": [
    "import numpy as np\n",
    "import pandas as pd\n",
    "from sklearn.metrics import mean_squared_error\n",
    "import numdifftools as nd\n",
    "from tqdm import tqdm\n",
    "from sklearn.linear_model import LinearRegression, RidgeCV"
   ]
  },
  {
   "cell_type": "markdown",
   "id": "5bf8d585",
   "metadata": {},
   "source": [
    "# Linear regression using feature mapping"
   ]
  },
  {
   "cell_type": "code",
   "execution_count": 2,
   "id": "61b9d85e",
   "metadata": {},
   "outputs": [],
   "source": [
    "#we calculate the vector w for all mapps and the join them to one to match the hand in format"
   ]
  },
  {
   "cell_type": "code",
   "execution_count": 3,
   "id": "572cf292",
   "metadata": {},
   "outputs": [
    {
     "data": {
      "text/html": [
       "<div>\n",
       "<style scoped>\n",
       "    .dataframe tbody tr th:only-of-type {\n",
       "        vertical-align: middle;\n",
       "    }\n",
       "\n",
       "    .dataframe tbody tr th {\n",
       "        vertical-align: top;\n",
       "    }\n",
       "\n",
       "    .dataframe thead th {\n",
       "        text-align: right;\n",
       "    }\n",
       "</style>\n",
       "<table border=\"1\" class=\"dataframe\">\n",
       "  <thead>\n",
       "    <tr style=\"text-align: right;\">\n",
       "      <th></th>\n",
       "      <th>Id</th>\n",
       "      <th>y</th>\n",
       "      <th>x1</th>\n",
       "      <th>x2</th>\n",
       "      <th>x3</th>\n",
       "      <th>x4</th>\n",
       "      <th>x5</th>\n",
       "    </tr>\n",
       "  </thead>\n",
       "  <tbody>\n",
       "    <tr>\n",
       "      <th>0</th>\n",
       "      <td>0</td>\n",
       "      <td>-6.822679</td>\n",
       "      <td>0.02</td>\n",
       "      <td>0.05</td>\n",
       "      <td>-0.09</td>\n",
       "      <td>-0.43</td>\n",
       "      <td>-0.08</td>\n",
       "    </tr>\n",
       "    <tr>\n",
       "      <th>1</th>\n",
       "      <td>1</td>\n",
       "      <td>-6.326290</td>\n",
       "      <td>-0.13</td>\n",
       "      <td>0.11</td>\n",
       "      <td>-0.08</td>\n",
       "      <td>-0.29</td>\n",
       "      <td>-0.03</td>\n",
       "    </tr>\n",
       "    <tr>\n",
       "      <th>2</th>\n",
       "      <td>2</td>\n",
       "      <td>-9.302728</td>\n",
       "      <td>0.08</td>\n",
       "      <td>0.06</td>\n",
       "      <td>-0.07</td>\n",
       "      <td>-0.41</td>\n",
       "      <td>-0.03</td>\n",
       "    </tr>\n",
       "    <tr>\n",
       "      <th>3</th>\n",
       "      <td>3</td>\n",
       "      <td>-7.371893</td>\n",
       "      <td>0.02</td>\n",
       "      <td>-0.12</td>\n",
       "      <td>0.01</td>\n",
       "      <td>-0.43</td>\n",
       "      <td>-0.02</td>\n",
       "    </tr>\n",
       "    <tr>\n",
       "      <th>4</th>\n",
       "      <td>4</td>\n",
       "      <td>-6.027647</td>\n",
       "      <td>-0.14</td>\n",
       "      <td>-0.12</td>\n",
       "      <td>-0.08</td>\n",
       "      <td>-0.02</td>\n",
       "      <td>-0.08</td>\n",
       "    </tr>\n",
       "    <tr>\n",
       "      <th>...</th>\n",
       "      <td>...</td>\n",
       "      <td>...</td>\n",
       "      <td>...</td>\n",
       "      <td>...</td>\n",
       "      <td>...</td>\n",
       "      <td>...</td>\n",
       "      <td>...</td>\n",
       "    </tr>\n",
       "    <tr>\n",
       "      <th>695</th>\n",
       "      <td>695</td>\n",
       "      <td>-6.147394</td>\n",
       "      <td>0.31</td>\n",
       "      <td>-0.09</td>\n",
       "      <td>0.04</td>\n",
       "      <td>-0.09</td>\n",
       "      <td>0.03</td>\n",
       "    </tr>\n",
       "    <tr>\n",
       "      <th>696</th>\n",
       "      <td>696</td>\n",
       "      <td>-6.214899</td>\n",
       "      <td>-0.26</td>\n",
       "      <td>-0.01</td>\n",
       "      <td>0.02</td>\n",
       "      <td>-0.40</td>\n",
       "      <td>0.05</td>\n",
       "    </tr>\n",
       "    <tr>\n",
       "      <th>697</th>\n",
       "      <td>697</td>\n",
       "      <td>-6.841341</td>\n",
       "      <td>-0.27</td>\n",
       "      <td>-0.22</td>\n",
       "      <td>-0.01</td>\n",
       "      <td>-0.32</td>\n",
       "      <td>-0.05</td>\n",
       "    </tr>\n",
       "    <tr>\n",
       "      <th>698</th>\n",
       "      <td>698</td>\n",
       "      <td>-6.523371</td>\n",
       "      <td>0.19</td>\n",
       "      <td>0.11</td>\n",
       "      <td>-0.05</td>\n",
       "      <td>-0.27</td>\n",
       "      <td>-0.04</td>\n",
       "    </tr>\n",
       "    <tr>\n",
       "      <th>699</th>\n",
       "      <td>699</td>\n",
       "      <td>-5.676683</td>\n",
       "      <td>-0.09</td>\n",
       "      <td>-0.09</td>\n",
       "      <td>-0.06</td>\n",
       "      <td>-0.41</td>\n",
       "      <td>-0.06</td>\n",
       "    </tr>\n",
       "  </tbody>\n",
       "</table>\n",
       "<p>700 rows × 7 columns</p>\n",
       "</div>"
      ],
      "text/plain": [
       "      Id         y    x1    x2    x3    x4    x5\n",
       "0      0 -6.822679  0.02  0.05 -0.09 -0.43 -0.08\n",
       "1      1 -6.326290 -0.13  0.11 -0.08 -0.29 -0.03\n",
       "2      2 -9.302728  0.08  0.06 -0.07 -0.41 -0.03\n",
       "3      3 -7.371893  0.02 -0.12  0.01 -0.43 -0.02\n",
       "4      4 -6.027647 -0.14 -0.12 -0.08 -0.02 -0.08\n",
       "..   ...       ...   ...   ...   ...   ...   ...\n",
       "695  695 -6.147394  0.31 -0.09  0.04 -0.09  0.03\n",
       "696  696 -6.214899 -0.26 -0.01  0.02 -0.40  0.05\n",
       "697  697 -6.841341 -0.27 -0.22 -0.01 -0.32 -0.05\n",
       "698  698 -6.523371  0.19  0.11 -0.05 -0.27 -0.04\n",
       "699  699 -5.676683 -0.09 -0.09 -0.06 -0.41 -0.06\n",
       "\n",
       "[700 rows x 7 columns]"
      ]
     },
     "execution_count": 3,
     "metadata": {},
     "output_type": "execute_result"
    }
   ],
   "source": [
    "#read data\n",
    "df_train = pd.read_csv('train.csv')\n",
    "sample = np.loadtxt('sample.csv')\n",
    "df_train"
   ]
  },
  {
   "cell_type": "code",
   "execution_count": 4,
   "id": "598b3cbe",
   "metadata": {},
   "outputs": [],
   "source": [
    "X = df_train.to_numpy()[:,2:]\n",
    "y = df_train.to_numpy()[:,1]"
   ]
  },
  {
   "cell_type": "code",
   "execution_count": 5,
   "id": "b0d5e110",
   "metadata": {},
   "outputs": [],
   "source": [
    "X_const = np.ones(X.shape[0]).reshape(-1,1)\n",
    "X_big = np.concatenate((X,np.square(X),np.exp(X),np.cos(X)),axis = 1)\n",
    "X_big = np.append(X_big,X_const,axis=1)"
   ]
  },
  {
   "cell_type": "code",
   "execution_count": 6,
   "id": "251407fd",
   "metadata": {},
   "outputs": [
    {
     "name": "stdout",
     "output_type": "stream",
     "text": [
      "1.9497250832567494\n"
     ]
    },
    {
     "name": "stderr",
     "output_type": "stream",
     "text": [
      "/Users/paul/miniconda3/lib/python3.8/site-packages/sklearn/linear_model/_ridge.py:1791: RuntimeWarning: divide by zero encountered in reciprocal\n",
      "  w = ((singvals_sq + alpha) ** -1) - (alpha ** -1)\n"
     ]
    },
    {
     "data": {
      "text/plain": [
       "0.017958684711961714"
      ]
     },
     "execution_count": 6,
     "metadata": {},
     "output_type": "execute_result"
    }
   ],
   "source": [
    "clf = RidgeCV(alphas=[1e-3, 1e-2, 1e-1, 1,10,100],fit_intercept = False).fit(X_big, y)\n",
    "w_sk = clf.coef_\n",
    "#np.savetxt('weights_vector.csv', w_sk, delimiter=\",\")"
   ]
  }
 ],
 "metadata": {
  "kernelspec": {
   "display_name": "Python3",
   "language": "python",
   "name": "python3"
  },
  "language_info": {
   "codemirror_mode": {
    "name": "ipython",
    "version": 3
   },
   "file_extension": ".py",
   "mimetype": "text/x-python",
   "name": "python",
   "nbconvert_exporter": "python",
   "pygments_lexer": "ipython3",
   "version": "3.9.10"
  }
 },
 "nbformat": 4,
 "nbformat_minor": 5
}
