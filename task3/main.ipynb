{
 "cells": [
  {
   "cell_type": "code",
   "execution_count": 1,
   "metadata": {},
   "outputs": [
    {
     "name": "stdout",
     "output_type": "stream",
     "text": [
      "Init Plugin\n",
      "Init Graph Optimizer\n",
      "Init Kernel\n"
     ]
    }
   ],
   "source": [
    "import pandas as pd\n",
    "import numpy as np\n",
    "import matplotlib.pyplot as plt\n",
    "from tqdm import tqdm\n",
    "import tensorflow as tf\n",
    "from sklearn.preprocessing import StandardScaler\n",
    "from sklearn.model_selection import train_test_split\n",
    "from tensorflow.keras import applications\n",
    "from tensorflow.keras import layers\n",
    "from tensorflow.keras import losses\n",
    "from tensorflow.keras import optimizers\n",
    "from tensorflow.keras import metrics\n",
    "from tensorflow.keras import Model\n",
    "from tensorflow.keras.applications import resnet\n",
    "\n",
    "#set the random seeds\n",
    "np.random.seed(42)\n",
    "tf.random.set_seed(42)"
   ]
  },
  {
   "cell_type": "code",
   "execution_count": 2,
   "metadata": {},
   "outputs": [],
   "source": [
    "#read the triplet pairs of images\n",
    "train_triplets = pd.read_csv('train_triplets.txt', delimiter = ' ', names = ['A', 'B', 'C'], dtype=str) + '.jpg'\n",
    "test_triplets = pd.read_csv('test_triplets.txt', delimiter = ' ', names = ['A', 'B', 'C'], dtype=str) + '.jpg'\n",
    "\n",
    "#balance labels:\n",
    "#add labels to the training dataframe\n",
    "len = train_triplets.shape[0]\n",
    "labels = np.ones(len)\n",
    "train_triplets['labels'] = labels\n",
    "\n",
    "#for the training data switch B and C random with 0.5 chance to balance labels\n",
    "df_sample = train_triplets.sample(round(len/2))\n",
    "indicies = df_sample.index\n",
    "train_triplets.loc[indicies,'labels'] = 0\n",
    "\n",
    "#dreiecks tausch:\n",
    "df_B = train_triplets.loc[indicies, 'B']\n",
    "train_triplets.loc[indicies,'B'] = train_triplets.loc[indicies,'C']\n",
    "train_triplets.loc[indicies,'C'] = df_B\n",
    "\n",
    "#read pre processed features\n",
    "train_features = pd.read_csv('train_features_food.csv')\n",
    "test_features = pd.read_csv('test_features_food.csv')\n",
    "\n",
    "#standardization\n",
    "scaler = StandardScaler()\n",
    "train_features.iloc[:, 1:] = scaler.fit_transform(train_features.iloc[:, 1:])\n",
    "test_features.iloc[:, 1:] = scaler.fit_transform(test_features.iloc[:, 1:])"
   ]
  },
  {
   "cell_type": "code",
   "execution_count": 3,
   "metadata": {},
   "outputs": [],
   "source": [
    "def join_features(triplet,df):\n",
    "    \"\"\"\n",
    "        for image names of dtype string this function extracts the features for the given images\n",
    "        and returns the concatenated array\n",
    "        \n",
    "        Args:\n",
    "            triplet: tupel of the image names in the triplet\n",
    "            df: data frame from which we want to load the features\n",
    "        returns:\n",
    "            concatenated feature vector of the feature vectors of all three images\n",
    "        \n",
    "    \"\"\"\n",
    "    \n",
    "    img_A = triplet[0]\n",
    "    img_B = triplet[1]\n",
    "    img_C = triplet[2]\n",
    "    \n",
    "    features_A = df[df['0'] == img_A].to_numpy()[0,1:]\n",
    "    features_B = df[df['0'] == img_B].to_numpy()[0,1:]\n",
    "    features_C = df[df['0'] == img_C].to_numpy()[0,1:]\n",
    "    \n",
    "    #concat features\n",
    "    return np.concatenate([features_A,features_B,features_C])"
   ]
  },
  {
   "cell_type": "code",
   "execution_count": 4,
   "metadata": {},
   "outputs": [],
   "source": [
    "num_triplets=train_triplets.shape[0]#number of triplets in the training set\n",
    "num_triplets_test = test_triplets.shape[0]#number of triplets in the test set\n",
    "triplets = train_triplets.to_numpy()[:,0:3]#training triplets\n",
    "test_triplets = test_triplets.to_numpy()[:,0:3]#test triplets\n",
    "lbs = train_triplets.to_numpy()[:,3]#labels "
   ]
  },
  {
   "cell_type": "code",
   "execution_count": 5,
   "metadata": {},
   "outputs": [
    {
     "name": "stderr",
     "output_type": "stream",
     "text": [
      "100%|███████████████████████████████████| 59515/59515 [00:55<00:00, 1081.84it/s]\n"
     ]
    }
   ],
   "source": [
    "#store the feature vector for all training triplets in a feature matrix \n",
    "train_features = np.array([join_features(triplets[i],train_features) for i in tqdm(range(num_triplets))])"
   ]
  },
  {
   "cell_type": "code",
   "execution_count": 6,
   "metadata": {},
   "outputs": [
    {
     "name": "stderr",
     "output_type": "stream",
     "text": [
      "100%|███████████████████████████████████| 59544/59544 [00:54<00:00, 1086.25it/s]\n"
     ]
    }
   ],
   "source": [
    "#store the feature vector for all test triplets in a feature matrix\n",
    "test_features = np.array([join_features(test_triplets[i],test_features) for i in tqdm(range(num_triplets_test))])"
   ]
  },
  {
   "cell_type": "code",
   "execution_count": 7,
   "metadata": {},
   "outputs": [],
   "source": [
    "train_features = train_features.astype(float)\n",
    "X_test_real = test_features.astype(float)\n",
    "\n",
    "#train-test split\n",
    "X_train, X_test, y_train, y_test = train_test_split(\n",
    "    train_features, lbs, \n",
    "    test_size=0.1, random_state=42\n",
    ")\n",
    "\n",
    "y_train = y_train.astype(int)\n",
    "X_train = X_train.astype(float)\n",
    "y_test = y_test.astype(int)\n",
    "X_test = X_test.astype(float)"
   ]
  },
  {
   "cell_type": "code",
   "execution_count": 38,
   "metadata": {},
   "outputs": [],
   "source": [
    "#desing a model\n",
    "model = tf.keras.Sequential([\n",
    "    tf.keras.layers.Dense(6144, activation='relu'),\n",
    "    tf.keras.layers.BatchNormalization(),\n",
    "    tf.keras.layers.Dropout(rate=0.2),\n",
    "    tf.keras.layers.Dense(3072, activation='relu'),\n",
    "    tf.keras.layers.BatchNormalization(),\n",
    "    tf.keras.layers.Dropout(rate=0.2),\n",
    "    tf.keras.layers.Dense(1536, activation='relu'),\n",
    "    tf.keras.layers.BatchNormalization(),\n",
    "    tf.keras.layers.Dropout(rate=0.2),\n",
    "    tf.keras.layers.Dense(768, activation='relu'),\n",
    "    tf.keras.layers.BatchNormalization(),\n",
    "    tf.keras.layers.Dropout(rate=0.5),\n",
    "    tf.keras.layers.Dense(384, activation='relu'),\n",
    "    tf.keras.layers.BatchNormalization(),\n",
    "    tf.keras.layers.Dropout(rate=0.2),\n",
    "    tf.keras.layers.Dense(192, activation='relu'),\n",
    "    tf.keras.layers.BatchNormalization(),\n",
    "    tf.keras.layers.Dropout(rate=0.2),\n",
    "    tf.keras.layers.Dense(1, activation='sigmoid')\n",
    "])"
   ]
  },
  {
   "cell_type": "code",
   "execution_count": 39,
   "metadata": {},
   "outputs": [],
   "source": [
    "#compile a model\n",
    "model.compile(\n",
    "    loss=tf.keras.losses.binary_crossentropy,\n",
    "    optimizer=tf.keras.optimizers.Adam(lr=0.001),\n",
    "    metrics=[\n",
    "        tf.keras.metrics.BinaryAccuracy(name='accuracy')#,\n",
    "        #tf.keras.metrics.Precision(name='precision'),\n",
    "        #tf.keras.metrics.Recall(name='recall')\n",
    "    ]\n",
    ")"
   ]
  },
  {
   "cell_type": "code",
   "execution_count": 40,
   "metadata": {},
   "outputs": [],
   "source": [
    "#initialize checkpoint-filepath for the best epoch \n",
    "checkpoint_filepath = '/tmp/checkpoint'\n",
    "model_checkpoint_callback = tf.keras.callbacks.ModelCheckpoint(\n",
    "    filepath=checkpoint_filepath,\n",
    "    save_weights_only=True,\n",
    "    monitor='val_accuracy',\n",
    "    mode='max',\n",
    "    save_best_only=True)"
   ]
  },
  {
   "cell_type": "code",
   "execution_count": 41,
   "metadata": {},
   "outputs": [
    {
     "name": "stdout",
     "output_type": "stream",
     "text": [
      "Epoch 1/10\n"
     ]
    },
    {
     "name": "stderr",
     "output_type": "stream",
     "text": [
      "2022-05-11 01:31:39.891495: I tensorflow/core/grappler/optimizers/custom_graph_optimizer_registry.cc:112] Plugin optimizer for device_type GPU is enabled.\n"
     ]
    },
    {
     "name": "stdout",
     "output_type": "stream",
     "text": [
      "419/419 [==============================] - ETA: 0s - loss: 0.5560 - accuracy: 0.7228"
     ]
    },
    {
     "name": "stderr",
     "output_type": "stream",
     "text": [
      "2022-05-11 01:32:07.043241: I tensorflow/core/grappler/optimizers/custom_graph_optimizer_registry.cc:112] Plugin optimizer for device_type GPU is enabled.\n"
     ]
    },
    {
     "name": "stdout",
     "output_type": "stream",
     "text": [
      "419/419 [==============================] - 29s 64ms/step - loss: 0.5560 - accuracy: 0.7228 - val_loss: 0.5205 - val_accuracy: 0.7465\n",
      "Epoch 2/10\n",
      "419/419 [==============================] - 24s 57ms/step - loss: 0.4369 - accuracy: 0.7978 - val_loss: 0.5330 - val_accuracy: 0.7515\n",
      "Epoch 3/10\n",
      "419/419 [==============================] - 24s 58ms/step - loss: 0.3556 - accuracy: 0.8445 - val_loss: 0.5017 - val_accuracy: 0.7749\n",
      "Epoch 4/10\n",
      "419/419 [==============================] - 24s 58ms/step - loss: 0.2845 - accuracy: 0.8797 - val_loss: 0.5030 - val_accuracy: 0.8041\n",
      "Epoch 5/10\n",
      "419/419 [==============================] - 24s 57ms/step - loss: 0.2201 - accuracy: 0.9116 - val_loss: 0.5622 - val_accuracy: 0.7866\n",
      "Epoch 6/10\n",
      "419/419 [==============================] - 24s 58ms/step - loss: 0.1711 - accuracy: 0.9324 - val_loss: 0.6628 - val_accuracy: 0.7708\n",
      "Epoch 7/10\n",
      "419/419 [==============================] - 24s 58ms/step - loss: 0.1396 - accuracy: 0.9455 - val_loss: 0.6354 - val_accuracy: 0.8026\n",
      "Epoch 8/10\n",
      "419/419 [==============================] - 24s 58ms/step - loss: 0.1133 - accuracy: 0.9563 - val_loss: 0.7552 - val_accuracy: 0.7755\n",
      "Epoch 9/10\n",
      "419/419 [==============================] - 25s 59ms/step - loss: 0.1013 - accuracy: 0.9614 - val_loss: 0.5660 - val_accuracy: 0.8384\n",
      "Epoch 10/10\n",
      "419/419 [==============================] - 25s 59ms/step - loss: 0.0843 - accuracy: 0.9676 - val_loss: 0.7728 - val_accuracy: 0.7732\n"
     ]
    }
   ],
   "source": [
    "#train the model\n",
    "history = model.fit(X_train,\n",
    "                    y_train,\n",
    "                    epochs=10,\n",
    "                    batch_size=128,\n",
    "                    validation_data=(X_test, y_test),\n",
    "                    callbacks=[model_checkpoint_callback])"
   ]
  },
  {
   "cell_type": "code",
   "execution_count": 42,
   "metadata": {},
   "outputs": [
    {
     "name": "stdout",
     "output_type": "stream",
     "text": [
      "  4/186 [..............................] - ETA: 4s - loss: 0.4247 - accuracy: 0.8438 "
     ]
    },
    {
     "name": "stderr",
     "output_type": "stream",
     "text": [
      "2022-05-11 01:36:16.385668: I tensorflow/core/grappler/optimizers/custom_graph_optimizer_registry.cc:112] Plugin optimizer for device_type GPU is enabled.\n"
     ]
    },
    {
     "name": "stdout",
     "output_type": "stream",
     "text": [
      "186/186 [==============================] - 1s 6ms/step - loss: 0.5660 - accuracy: 0.8384\n",
      "Accuracy: 83.84\n"
     ]
    }
   ],
   "source": [
    "#reload the best model\n",
    "model.load_weights(checkpoint_filepath)\n",
    "\n",
    "#print accuracy on the validation set of the best model\n",
    "_, accuracy = model.evaluate(X_test, y_test)\n",
    "print('Accuracy: %.2f' % (accuracy*100))"
   ]
  },
  {
   "cell_type": "code",
   "execution_count": 43,
   "metadata": {},
   "outputs": [
    {
     "name": "stderr",
     "output_type": "stream",
     "text": [
      "2022-05-11 01:36:24.027758: I tensorflow/core/grappler/optimizers/custom_graph_optimizer_registry.cc:112] Plugin optimizer for device_type GPU is enabled.\n"
     ]
    }
   ],
   "source": [
    "#evaluate predicitons for the test set\n",
    "predictions = (model.predict(X_test_real) > 0.5).astype(int)"
   ]
  },
  {
   "cell_type": "code",
   "execution_count": 44,
   "metadata": {},
   "outputs": [],
   "source": [
    "#store the predictions\n",
    "preds = predictions.reshape(-1).astype(int)\n",
    "df_handin = pd.DataFrame({'predicitons': preds})\n",
    "df_handin.to_csv('predictions_final.txt',index=False, header = False)"
   ]
  }
 ],
 "metadata": {
  "kernelspec": {
   "display_name": "Python 3.9 (tensorflow)",
   "language": "python",
   "name": "tensorflow"
  },
  "language_info": {
   "codemirror_mode": {
    "name": "ipython",
    "version": 3
   },
   "file_extension": ".py",
   "mimetype": "text/x-python",
   "name": "python",
   "nbconvert_exporter": "python",
   "pygments_lexer": "ipython3",
   "version": "3.9.15"
  }
 },
 "nbformat": 4,
 "nbformat_minor": 4
}
