{
 "cells": [
  {
   "cell_type": "code",
   "execution_count": 1,
   "metadata": {},
   "outputs": [
    {
     "name": "stdout",
     "output_type": "stream",
     "text": [
      "Init Plugin\n",
      "Init Graph Optimizer\n",
      "Init Kernel\n"
     ]
    }
   ],
   "source": [
    "import pandas as pd\n",
    "import numpy as np\n",
    "import matplotlib.pyplot as plt\n",
    "from tqdm import tqdm\n",
    "import tensorflow as tf\n",
    "from sklearn.preprocessing import StandardScaler\n",
    "from sklearn.model_selection import train_test_split\n",
    "from tensorflow.keras import applications\n",
    "from tensorflow.keras import layers\n",
    "from tensorflow.keras import losses\n",
    "from tensorflow.keras import optimizers\n",
    "from tensorflow.keras import metrics\n",
    "from tensorflow.keras import Model\n",
    "from tensorflow.keras.applications import resnet\n",
    "\n",
    "#set the random seeds\n",
    "np.random.seed(42)\n",
    "tf.random.set_seed(42)"
   ]
  },
  {
   "cell_type": "code",
   "execution_count": 2,
   "metadata": {},
   "outputs": [],
   "source": [
    "#read the triplet pairs of images\n",
    "train_triplets = pd.read_csv('train_triplets.txt', delimiter = ' ', names = ['A', 'B', 'C'], dtype=str) + '.jpg'\n",
    "test_triplets = pd.read_csv('test_triplets.txt', delimiter = ' ', names = ['A', 'B', 'C'], dtype=str) + '.jpg'\n",
    "\n",
    "#balance labels:\n",
    "#add labels to the training dataframe\n",
    "len = train_triplets.shape[0]\n",
    "labels = np.ones(len)\n",
    "train_triplets['labels'] = labels\n",
    "\n",
    "#for the training data switch B and C random with 0.5 chance to balance labels\n",
    "df_sample = train_triplets.sample(round(len/2))\n",
    "indicies = df_sample.index\n",
    "train_triplets.loc[indicies,'labels'] = 0\n",
    "\n",
    "#dreiecks tausch:\n",
    "df_B = train_triplets.loc[indicies, 'B']\n",
    "train_triplets.loc[indicies,'B'] = train_triplets.loc[indicies,'C']\n",
    "train_triplets.loc[indicies,'C'] = df_B\n",
    "\n",
    "#read pre processed features\n",
    "train_features = pd.read_csv('train_features_food.csv')\n",
    "test_features = pd.read_csv('test_features_food.csv')\n",
    "\n",
    "#standardization\n",
    "scaler = StandardScaler()\n",
    "train_features.iloc[:, 1:] = scaler.fit_transform(train_features.iloc[:, 1:])\n",
    "test_features.iloc[:, 1:] = scaler.fit_transform(test_features.iloc[:, 1:])"
   ]
  },
  {
   "cell_type": "code",
   "execution_count": 3,
   "metadata": {},
   "outputs": [],
   "source": [
    "def join_features(triplet,df):\n",
    "    \"\"\"\n",
    "        for image names of dtype string this function extracts the features for the given images\n",
    "        and returns the concatenated array\n",
    "        \n",
    "        Args:\n",
    "            triplet: tupel of the image names in the triplet\n",
    "            df: data frame from which we want to load the features\n",
    "        returns:\n",
    "            concatenated feature vector of the feature vectors of all three images\n",
    "        \n",
    "    \"\"\"\n",
    "    \n",
    "    img_A = triplet[0]\n",
    "    img_B = triplet[1]\n",
    "    img_C = triplet[2]\n",
    "    \n",
    "    features_A = df[df['0'] == img_A].to_numpy()[0,1:]\n",
    "    features_B = df[df['0'] == img_B].to_numpy()[0,1:]\n",
    "    features_C = df[df['0'] == img_C].to_numpy()[0,1:]\n",
    "    \n",
    "    #concat features\n",
    "    return np.concatenate([features_A,features_B,features_C])"
   ]
  },
  {
   "cell_type": "code",
   "execution_count": 4,
   "metadata": {},
   "outputs": [],
   "source": [
    "num_triplets=train_triplets.shape[0]#number of triplets in the training set\n",
    "num_triplets_test = test_triplets.shape[0]#number of triplets in the test set\n",
    "triplets = train_triplets.to_numpy()[:,0:3]#training triplets\n",
    "test_triplets = test_triplets.to_numpy()[:,0:3]#test triplets\n",
    "lbs = train_triplets.to_numpy()[:,3]#labels "
   ]
  },
  {
   "cell_type": "code",
   "execution_count": 5,
   "metadata": {},
   "outputs": [
    {
     "name": "stderr",
     "output_type": "stream",
     "text": [
      "100%|███████████████████████████████████| 59515/59515 [00:55<00:00, 1081.84it/s]\n"
     ]
    }
   ],
   "source": [
    "#store the feature vector for all training triplets in a feature matrix \n",
    "train_features = np.array([join_features(triplets[i],train_features) for i in tqdm(range(num_triplets))])"
   ]
  },
  {
   "cell_type": "code",
   "execution_count": 6,
   "metadata": {},
   "outputs": [
    {
     "name": "stderr",
     "output_type": "stream",
     "text": [
      "100%|███████████████████████████████████| 59544/59544 [00:54<00:00, 1086.25it/s]\n"
     ]
    }
   ],
   "source": [
    "#store the feature vector for all test triplets in a feature matrix\n",
    "test_features = np.array([join_features(test_triplets[i],test_features) for i in tqdm(range(num_triplets_test))])"
   ]
  },
  {
   "cell_type": "code",
   "execution_count": 7,
   "metadata": {},
   "outputs": [],
   "source": [
    "train_features = train_features.astype(float)\n",
    "X_test_real = test_features.astype(float)\n",
    "\n",
    "#train-test split\n",
    "X_train, X_test, y_train, y_test = train_test_split(\n",
    "    train_features, lbs, \n",
    "    test_size=0.1, random_state=42\n",
    ")\n",
    "\n",
    "y_train = y_train.astype(int)\n",
    "X_train = X_train.astype(float)\n",
    "y_test = y_test.astype(int)\n",
    "X_test = X_test.astype(float)"
   ]
  },
  {
   "cell_type": "code",
   "execution_count": 27,
   "metadata": {},
   "outputs": [],
   "source": [
    "#desing a model\n",
    "model = tf.keras.Sequential([\n",
    "    tf.keras.layers.Dense(6144, activation='relu'),\n",
    "    tf.keras.layers.BatchNormalization(),\n",
    "    tf.keras.layers.Dropout(rate=0.2),\n",
    "    tf.keras.layers.Dense(3072, activation='relu'),\n",
    "    tf.keras.layers.BatchNormalization(),\n",
    "    tf.keras.layers.Dropout(rate=0.2),\n",
    "    tf.keras.layers.Dense(1536, activation='relu'),\n",
    "    tf.keras.layers.BatchNormalization(),\n",
    "    tf.keras.layers.Dropout(rate=0.2),\n",
    "    tf.keras.layers.Dense(768, activation='relu'),\n",
    "    tf.keras.layers.BatchNormalization(),\n",
    "    tf.keras.layers.Dropout(rate=0.5),\n",
    "    tf.keras.layers.Dense(384, activation='relu'),\n",
    "    tf.keras.layers.BatchNormalization(),\n",
    "    tf.keras.layers.Dropout(rate=0.2),\n",
    "    tf.keras.layers.Dense(192, activation='relu'),\n",
    "    tf.keras.layers.BatchNormalization(),\n",
    "    tf.keras.layers.Dropout(rate=0.2),\n",
    "        tf.keras.layers.Dense(96, activation='relu'),\n",
    "    tf.keras.layers.BatchNormalization(),\n",
    "    tf.keras.layers.Dropout(rate=0.2),\n",
    "    tf.keras.layers.Dense(1, activation='sigmoid')\n",
    "])"
   ]
  },
  {
   "cell_type": "code",
   "execution_count": 28,
   "metadata": {},
   "outputs": [],
   "source": [
    "#compile a model\n",
    "model.compile(\n",
    "    loss=tf.keras.losses.binary_crossentropy,\n",
    "    optimizer=tf.keras.optimizers.Adam(lr=0.001),\n",
    "    metrics=[\n",
    "        tf.keras.metrics.BinaryAccuracy(name='accuracy')#,\n",
    "        #tf.keras.metrics.Precision(name='precision'),\n",
    "        #tf.keras.metrics.Recall(name='recall')\n",
    "    ]\n",
    ")"
   ]
  },
  {
   "cell_type": "code",
   "execution_count": 29,
   "metadata": {},
   "outputs": [],
   "source": [
    "#initialize checkpoint-filepath for the best epoch \n",
    "checkpoint_filepath = '/tmp/checkpoint'\n",
    "model_checkpoint_callback = tf.keras.callbacks.ModelCheckpoint(\n",
    "    filepath=checkpoint_filepath,\n",
    "    save_weights_only=True,\n",
    "    monitor='val_accuracy',\n",
    "    mode='max',\n",
    "    save_best_only=True)"
   ]
  },
  {
   "cell_type": "code",
   "execution_count": 30,
   "metadata": {},
   "outputs": [
    {
     "name": "stdout",
     "output_type": "stream",
     "text": [
      "Epoch 1/10\n"
     ]
    },
    {
     "name": "stderr",
     "output_type": "stream",
     "text": [
      "2022-05-11 01:10:07.750640: I tensorflow/core/grappler/optimizers/custom_graph_optimizer_registry.cc:112] Plugin optimizer for device_type GPU is enabled.\n"
     ]
    },
    {
     "name": "stdout",
     "output_type": "stream",
     "text": [
      "419/419 [==============================] - ETA: 0s - loss: 0.5522 - accuracy: 0.7201"
     ]
    },
    {
     "name": "stderr",
     "output_type": "stream",
     "text": [
      "2022-05-11 01:10:34.744750: I tensorflow/core/grappler/optimizers/custom_graph_optimizer_registry.cc:112] Plugin optimizer for device_type GPU is enabled.\n"
     ]
    },
    {
     "name": "stdout",
     "output_type": "stream",
     "text": [
      "419/419 [==============================] - 28s 64ms/step - loss: 0.5522 - accuracy: 0.7201 - val_loss: 0.5434 - val_accuracy: 0.7391\n",
      "Epoch 2/10\n",
      "419/419 [==============================] - 25s 61ms/step - loss: 0.4411 - accuracy: 0.7950 - val_loss: 0.5134 - val_accuracy: 0.7650\n",
      "Epoch 3/10\n",
      "419/419 [==============================] - 26s 61ms/step - loss: 0.3597 - accuracy: 0.8430 - val_loss: 0.5246 - val_accuracy: 0.7781\n",
      "Epoch 4/10\n",
      "419/419 [==============================] - 26s 61ms/step - loss: 0.2876 - accuracy: 0.8797 - val_loss: 0.5311 - val_accuracy: 0.7819\n",
      "Epoch 5/10\n",
      "419/419 [==============================] - 26s 61ms/step - loss: 0.2218 - accuracy: 0.9091 - val_loss: 0.4970 - val_accuracy: 0.8112\n",
      "Epoch 6/10\n",
      "419/419 [==============================] - 26s 62ms/step - loss: 0.1756 - accuracy: 0.9312 - val_loss: 0.6255 - val_accuracy: 0.7826\n",
      "Epoch 7/10\n",
      "419/419 [==============================] - 26s 61ms/step - loss: 0.1409 - accuracy: 0.9449 - val_loss: 0.6594 - val_accuracy: 0.7997\n",
      "Epoch 8/10\n",
      "419/419 [==============================] - 26s 61ms/step - loss: 0.1163 - accuracy: 0.9552 - val_loss: 0.6651 - val_accuracy: 0.7959\n",
      "Epoch 9/10\n",
      "419/419 [==============================] - 26s 61ms/step - loss: 0.1040 - accuracy: 0.9602 - val_loss: 0.6022 - val_accuracy: 0.8330\n",
      "Epoch 10/10\n",
      "419/419 [==============================] - 26s 61ms/step - loss: 0.0896 - accuracy: 0.9658 - val_loss: 0.7446 - val_accuracy: 0.7838\n"
     ]
    }
   ],
   "source": [
    "#train the model\n",
    "history = model.fit(X_train,\n",
    "                    y_train,\n",
    "                    epochs=10,\n",
    "                    batch_size=128,\n",
    "                    validation_data=(X_test, y_test),\n",
    "                    callbacks=[model_checkpoint_callback])"
   ]
  },
  {
   "cell_type": "code",
   "execution_count": 31,
   "metadata": {},
   "outputs": [
    {
     "name": "stdout",
     "output_type": "stream",
     "text": [
      "  5/186 [..............................] - ETA: 3s - loss: 0.4666 - accuracy: 0.8438 "
     ]
    },
    {
     "name": "stderr",
     "output_type": "stream",
     "text": [
      "2022-05-11 01:14:45.565024: I tensorflow/core/grappler/optimizers/custom_graph_optimizer_registry.cc:112] Plugin optimizer for device_type GPU is enabled.\n"
     ]
    },
    {
     "name": "stdout",
     "output_type": "stream",
     "text": [
      "186/186 [==============================] - 1s 6ms/step - loss: 0.6022 - accuracy: 0.8330\n",
      "Accuracy: 83.30\n"
     ]
    }
   ],
   "source": [
    "#reload the best model\n",
    "model.load_weights(checkpoint_filepath)\n",
    "\n",
    "#print accuracy on the validation set of the best model\n",
    "_, accuracy = model.evaluate(X_test, y_test)\n",
    "print('Accuracy: %.2f' % (accuracy*100))"
   ]
  },
  {
   "cell_type": "code",
   "execution_count": 32,
   "metadata": {},
   "outputs": [
    {
     "name": "stderr",
     "output_type": "stream",
     "text": [
      "2022-05-11 01:14:53.889544: I tensorflow/core/grappler/optimizers/custom_graph_optimizer_registry.cc:112] Plugin optimizer for device_type GPU is enabled.\n"
     ]
    }
   ],
   "source": [
    "#evaluate predicitons for the test set\n",
    "predictions = (model.predict(X_test_real) > 0.5).astype(int)"
   ]
  },
  {
   "cell_type": "code",
   "execution_count": 33,
   "metadata": {},
   "outputs": [],
   "source": [
    "#store the predictions\n",
    "preds = predictions.reshape(-1).astype(int)\n",
    "df_handin = pd.DataFrame({'predicitons': preds})\n",
    "df_handin.to_csv('predictions_final.txt',index=False, header = False)"
   ]
  },
  {
   "cell_type": "code",
   "execution_count": null,
   "metadata": {},
   "outputs": [],
   "source": []
  }
 ],
 "metadata": {
  "kernelspec": {
   "display_name": "Python 3.9 (tensorflow)",
   "language": "python",
   "name": "tensorflow"
  },
  "language_info": {
   "codemirror_mode": {
    "name": "ipython",
    "version": 3
   },
   "file_extension": ".py",
   "mimetype": "text/x-python",
   "name": "python",
   "nbconvert_exporter": "python",
   "pygments_lexer": "ipython3",
   "version": "3.9.12"
  }
 },
 "nbformat": 4,
 "nbformat_minor": 4
}
