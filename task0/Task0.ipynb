{
 "cells": [
  {
   "cell_type": "code",
   "execution_count": 84,
   "id": "b9ae32ff",
   "metadata": {},
   "outputs": [],
   "source": [
    "import numpy as np\n",
    "import pandas as pd\n",
    "from sklearn.metrics import mean_squared_error\n",
    "import numdifftools as nd\n",
    "from tqdm.auto import tqdm\n",
    "from sklearn.linear_model import LinearRegression, Ridge"
   ]
  },
  {
   "cell_type": "code",
   "execution_count": 85,
   "id": "a1f90272",
   "metadata": {},
   "outputs": [],
   "source": [
    "#ead training and test data sets into data fame tormat\n",
    "df_train = pd.read_csv('train.csv')\n",
    "df_test = pd.read_csv('test.csv')"
   ]
  },
  {
   "cell_type": "code",
   "execution_count": 86,
   "id": "76d13688",
   "metadata": {},
   "outputs": [],
   "source": [
    "X = df_train.to_numpy()[:,2:]\n",
    "X_test = df_test.to_numpy()[:,1:]\n",
    "y = df_train.to_numpy()[:,1]\n",
    "#w0 = [1,2,3,4,5,6,7,8,9]"
   ]
  },
  {
   "cell_type": "markdown",
   "id": "1ff53070",
   "metadata": {},
   "source": [
    "## closed form solution"
   ]
  },
  {
   "cell_type": "code",
   "execution_count": 93,
   "id": "9a3b86af",
   "metadata": {},
   "outputs": [
    {
     "name": "stdout",
     "output_type": "stream",
     "text": [
      "2.4661713660845003e-13\n"
     ]
    }
   ],
   "source": [
    "#first calculate the closed form solution\n",
    "X_T = X.T\n",
    "w_closed = (np.linalg.inv(X_T @ X) @ X_T) @ y\n",
    "y_closed = X @ w_closed\n",
    "\n",
    "#computes the root mean square error\n",
    "RMSE = mean_squared_error(y, y_closed)**0.5\n",
    "print(RMSE)\n",
    "\n",
    "#np.sqrt(np.mean((y-y_closed)**2))"
   ]
  },
  {
   "cell_type": "code",
   "execution_count": 94,
   "id": "4bd5f455",
   "metadata": {},
   "outputs": [],
   "source": [
    "# strore return format as Id, y in a data frame\n",
    "y_final = X_test @ w_closed\n",
    "\n",
    "Id = (df_test.Id).to_numpy()\n",
    "arr = np.array([Id,y_final]).T\n",
    "results = pd.DataFrame(data=arr, columns = ['Id','y'])\n",
    "results.to_csv(\"results_closed.csv\")"
   ]
  },
  {
   "cell_type": "code",
   "execution_count": 95,
   "id": "7ff98ed7",
   "metadata": {},
   "outputs": [
    {
     "data": {
      "text/plain": [
       "array([0.1, 0.1, 0.1, 0.1, 0.1, 0.1, 0.1, 0.1, 0.1, 0.1])"
      ]
     },
     "execution_count": 95,
     "metadata": {},
     "output_type": "execute_result"
    }
   ],
   "source": [
    "w_closed"
   ]
  },
  {
   "cell_type": "markdown",
   "id": "f0d68b97",
   "metadata": {},
   "source": [
    "## gradient decent"
   ]
  },
  {
   "cell_type": "code",
   "execution_count": 96,
   "id": "d9f69239",
   "metadata": {},
   "outputs": [
    {
     "name": "stdout",
     "output_type": "stream",
     "text": [
      "10000\n"
     ]
    }
   ],
   "source": [
    "n = y.shape[0]\n",
    "print(n)\n",
    "L = lambda w: np.linalg.norm(y-X@w)**2/n"
   ]
  },
  {
   "cell_type": "code",
   "execution_count": 97,
   "id": "2ffbcf6c",
   "metadata": {},
   "outputs": [],
   "source": [
    "\n",
    "#gradient decent liner regression\n",
    "def gradient_descent(X, w_init, learning_rate=0.5, n_steps=1000, tol=1e-5, normalize=True):\n",
    "    w_curr = np.copy(w_init)\n",
    "    for step in tqdm(range(n_steps)):\n",
    "        direction = nd.Gradient(L)((w_curr))#gradiant from L with respect to w?\n",
    "        if normalize:\n",
    "            direction /= np.linalg.norm(direction)\n",
    "        w_next = w_curr - learning_rate*direction\n",
    "        if np.linalg.norm(direction) < tol:\n",
    "            w_curr = w_next\n",
    "            break\n",
    "        w_curr = w_next\n",
    "    return w_curr\n",
    "\n",
    "#gradient decent liner regression\n",
    "def momentum_gradient_descent(X, w_init, beta = 0.9, learning_rate=0.01, n_steps=1000, tol=1e-5, normalize=True):\n",
    "    w_curr = np.copy(w_init)\n",
    "    grad=nd.Gradient(L)\n",
    "    z_curr = grad((w_init))\n",
    "    for step in tqdm(range(n_steps)):\n",
    "        direction = grad((w_curr))#gradiant from L with respect to w?\n",
    "        if normalize:\n",
    "            direction /= np.linalg.norm(direction)\n",
    "        z_next = beta*z_curr + direction \n",
    "        w_next = w_curr - learning_rate*z_next\n",
    "        if np.linalg.norm(direction) < tol:\n",
    "            w_curr = w_next\n",
    "            print(\"we have reached the break point\")\n",
    "            break\n",
    "        w_curr = w_next\n",
    "        z_curr = z_next\n",
    "    return w_curr"
   ]
  },
  {
   "cell_type": "code",
   "execution_count": 99,
   "id": "df3c99ea",
   "metadata": {},
   "outputs": [
    {
     "name": "stderr",
     "output_type": "stream",
     "text": [
      "100%|███████████████████████████████████████| 1000/1000 [00:13<00:00, 75.29it/s]\n"
     ]
    },
    {
     "data": {
      "text/plain": [
       "3.64462805004913"
      ]
     },
     "execution_count": 99,
     "metadata": {},
     "output_type": "execute_result"
    }
   ],
   "source": [
    "w_init = [0,0,0,0,0,0,0,0,0,0]\n",
    "w_decent = gradient_descent(X,w_init,learning_rate=0.01,n_steps=1000)\n",
    "#computes the root mean square error\n",
    "RMSE = mean_squared_error(y, X @ w_decent)**0.5\n",
    "RMSE"
   ]
  },
  {
   "cell_type": "code",
   "execution_count": 100,
   "id": "0936c0ea",
   "metadata": {},
   "outputs": [
    {
     "data": {
      "text/plain": [
       "array([0.10115255, 0.10097507, 0.10066411, 0.10008634, 0.10039348,\n",
       "       0.09813641, 0.10215232, 0.10026948, 0.09874295, 0.10019087])"
      ]
     },
     "execution_count": 100,
     "metadata": {},
     "output_type": "execute_result"
    }
   ],
   "source": [
    "w_decent"
   ]
  },
  {
   "cell_type": "code",
   "execution_count": 101,
   "id": "58a56222",
   "metadata": {},
   "outputs": [],
   "source": [
    "# strore return format as Id, y in a data frame\n",
    "y_final_decent = X_test @ w_decent\n",
    "Id = (df_test.Id).to_numpy()\n",
    "\n",
    "arr_d = np.array([Id,y_final_decent]).T\n",
    "results = pd.DataFrame(data=arr_d, columns = ['Id','y'])\n",
    "#results.to_csv(\"results_decent.csv\")"
   ]
  },
  {
   "cell_type": "markdown",
   "id": "8ba84e92",
   "metadata": {},
   "source": [
    "## sklearn linear regression test"
   ]
  },
  {
   "cell_type": "code",
   "execution_count": 102,
   "id": "1422026d",
   "metadata": {},
   "outputs": [
    {
     "data": {
      "text/plain": [
       "1.0"
      ]
     },
     "execution_count": 102,
     "metadata": {},
     "output_type": "execute_result"
    }
   ],
   "source": [
    "reg = LinearRegression().fit(X, y)\n",
    "w_sk = reg.coef_\n",
    "mean_squared_error(y, X@w_sk)**0.5\n",
    "reg.score(X, y)"
   ]
  },
  {
   "cell_type": "code",
   "execution_count": 105,
   "id": "eca1805d",
   "metadata": {},
   "outputs": [
    {
     "name": "stdout",
     "output_type": "stream",
     "text": [
      "3.222330420673134e-07\n"
     ]
    },
    {
     "data": {
      "text/plain": [
       "1.0"
      ]
     },
     "execution_count": 105,
     "metadata": {},
     "output_type": "execute_result"
    }
   ],
   "source": [
    "reg_ridge = Ridge(alpha = 10).fit(X, y)\n",
    "w_sk = reg_ridge.coef_\n",
    "print(mean_squared_error(y, X@w_sk)**0.5)\n",
    "reg_ridge.score(X,y)"
   ]
  },
  {
   "cell_type": "markdown",
   "id": "eedb257e",
   "metadata": {},
   "source": []
  }
 ],
 "metadata": {
  "kernelspec": {
   "display_name": "Python 3 (ipykernel)",
   "language": "python",
   "name": "python3"
  },
  "language_info": {
   "codemirror_mode": {
    "name": "ipython",
    "version": 3
   },
   "file_extension": ".py",
   "mimetype": "text/x-python",
   "name": "python",
   "nbconvert_exporter": "python",
   "pygments_lexer": "ipython3",
   "version": "3.8.11"
  }
 },
 "nbformat": 4,
 "nbformat_minor": 5
}
